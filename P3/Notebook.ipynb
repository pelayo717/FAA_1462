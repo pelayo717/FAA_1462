{
 "cells": [
  {
   "cell_type": "code",
   "execution_count": null,
   "metadata": {},
   "outputs": [],
   "source": [
    "\"Apartado 1\""
   ]
  },
  {
   "cell_type": "code",
   "execution_count": null,
   "metadata": {},
   "outputs": [],
   "source": [
    "\"\"\"\n",
    "==> Generación de la población inicial con especial indicación del número de reglas por individuo consideradas <==\n",
    "\n",
    "Para inicializar la poblacion hemos optado por marcar al usuario unos margenes en cuanto al numero de reglas y al numero\n",
    "de individuos. En cuanto al primero, hemos tenido especial cuidado con los recursos de los que disponemos puesto, que como\n",
    "ya sabemos este tipo de algoritmos requiere de un coste computacional alto, y ello se ha visto reflejado a la hora de hacer \n",
    "las pruebas. Por tanto, marcamos un número máximo de reglas posibles, y para cada individuo en particular,\n",
    "empleamos las funciones de rand, buscando asi el mayor realismo posible.\n",
    "\n",
    "Por otra parte, y como ya se comento en las diferentes clases, el uso de reglas donde todos los alelos valen 1 o 0, no\n",
    "serán de gran ayuda y es por ello, que al crear cada regla del individuo, se verifica que esta condicion, no se dar,\n",
    "y de lo contrario se muta uno de los alelos para asi conseguir ya una regla valida.\n",
    "\n",
    "Cuando estos individuos ya estan creados y verificados todos ellos son añadidos a una población que se albergará y sobre \n",
    "la que se trabajará durante todas las pruebas, logicamente.\n",
    "\"\"\""
   ]
  },
  {
   "cell_type": "code",
   "execution_count": null,
   "metadata": {},
   "outputs": [],
   "source": [
    "\"\"\"\n",
    "==> Mecanismo de cruce implementado <==\n",
    "\n",
    "En cuanto al cruce implementado, recordamos la posibilidad de realizar cruces con otras reglas de otros progenitores,\n",
    "asi como intercambiar las reglas con otros progenitores. Para el primer tipo (que es la forma predeterminada de trabajar\n",
    "de nuestro algoritmo), se comprueba la probabilidad introducida con el usuario, con la generada automaticamente. En caso,\n",
    "de ser inferior a la marcada por el usuario, se realizará ese cruce. Es entonces, donde verificamos cuantas reglas hay\n",
    "por individuo, y escogemos aleatoriamente cual de esas serán las elegidas para el cruce. Con ello generamos una copia\n",
    "de cada progenitor, y aleatoriamente escogemos el punto de cruce.\n",
    "\n",
    "Por otra parte, para inter, el proceso a seguir es muy similar, excepto el último paso, donde no escogemos ahora el punto\n",
    "de cruce, pues no es necesario, y en su lugar, se intercambian directamente las reglas al completo.\n",
    "\"\"\""
   ]
  },
  {
   "cell_type": "code",
   "execution_count": null,
   "metadata": {},
   "outputs": [],
   "source": [
    "\"\"\"\n",
    "==> Mecanismo de mutación implementado <==\n",
    "\n",
    "Para desarrollar mutacón hemos implementado, 3 posibles tipos de mutación donde la más \"común\" que hemos usado para\n",
    "las pruebas es la de bit-flip. Las otras dos recordamos que buscan añadir o eliminar una de las reglas del individuo,\n",
    "con sus posteriores verificaciones. Si nos centramos en la primera, primero debemos verificar el número de reglas de\n",
    "las que dispone el individuo, y decidir sobre cual de ellas se analizará la mutación de este tipo. A partir de ello,\n",
    "escogemos alelo a alelo una probabilidad aleatoria que de ser inferior a la probabilida de mutación escogida por el usuario\n",
    "se realizará ese cambio en ese bit. Por último chequeamos que esta regla afectada, no es una regla unidad o completa de ceros\n",
    "ya que de ser habra que modificar algún bit aleatoriamente para que sea válida.\n",
    "\n",
    "Para el tipo de mutación en el que añadimos una regla, verificamos que dado el individuo concreto, este no tiene ya\n",
    "el máximo posible de reglas que permite el algoritmo. De lo contrario, se verifica que la probabilidad de mutación sea inferior\n",
    "a la indicada y a partir de este punto, consiste básicamente en un proceso similar a la inicialización de la población pero\n",
    "con una única regla sobre un único individuo.\n",
    "Por otro lado, el tipo de mutación donde se le elimina una regla parte de verificar que al menos el individuo en cuestión\n",
    "alberga 2 reglas, para que al menos pueda seguir trabajando en la población con el mínimo requerido. Entonces, aleatoriamente\n",
    "se escoge cual de estas será eliminada y se borra del progenitor.\"\"\""
   ]
  },
  {
   "cell_type": "code",
   "execution_count": null,
   "metadata": {},
   "outputs": [],
   "source": [
    "\"\"\"\n",
    "==> Mecanismo de clasificación implementado <==\n",
    "\n",
    "Es aqui donde requerimos unos recursos suficientes, puesto que nuestra idea es clasificar todas las instancias correspondientes\n",
    "con cada una de las reglas de un individuo. Conociendo esto de antemano, la función de clasificación se centra en\n",
    "recoger todos los atributos del dataset y escogiendo cada instancia del fichero de datos, analizar para una regla completa,\n",
    "cada parte de la misma con la parte correspondiente del dataset (recordemos en codificación One Hot). En caso de que la\n",
    "clasificación sea satisfactoría se añade la regla como activa; es decir, se añade la clase como predicha, para finalmente\n",
    "empleando el máximo se decida para una instancia concreta, que predicción le correspondería.\n",
    "\"\"\""
   ]
  }
 ],
 "metadata": {
  "kernelspec": {
   "display_name": "Python 3",
   "language": "python",
   "name": "python3"
  },
  "language_info": {
   "codemirror_mode": {
    "name": "ipython",
    "version": 3
   },
   "file_extension": ".py",
   "mimetype": "text/x-python",
   "name": "python",
   "nbconvert_exporter": "python",
   "pygments_lexer": "ipython3",
   "version": "3.7.6"
  }
 },
 "nbformat": 4,
 "nbformat_minor": 4
}
