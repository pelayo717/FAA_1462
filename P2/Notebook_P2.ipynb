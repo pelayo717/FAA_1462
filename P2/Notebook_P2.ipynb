{
 "cells": [
  {
   "cell_type": "code",
   "execution_count": 1,
   "metadata": {},
   "outputs": [],
   "source": [
    "from Datos import Datos\n",
    "from EstrategiaParticionado import ValidacionSimple\n",
    "from Clasificador import *\n",
    "from Distancias import *\n",
    "from Verificador import *\n",
    "from MatrizConfusion import MatrizConfusion\n",
    "from tabulate import tabulate"
   ]
  },
  {
   "cell_type": "code",
   "execution_count": 2,
   "metadata": {},
   "outputs": [],
   "source": [
    "# Abrimos los ficheros y extraemos los datos\n",
    "fileName = \"ConjuntosDatos/pima-indians-diabetes.data\"\n",
    "datos_diabetes = Datos(fileName)\n",
    "\n",
    "fileName = \"ConjuntosDatos/wdbc.data\"\n",
    "datos_wdbc = Datos(fileName)\n",
    "\n",
    "# Creamos las validaciones\n",
    "validacion_simple_diabetes = ValidacionSimple(75,10)\n",
    "simple_diabetes = validacion_simple_diabetes.creaParticiones(datos_diabetes)\n",
    "\n",
    "validacion_cruzada_diabetes = ValidacionCruzada(6)\n",
    "cruzada_diabetes = validacion_cruzada_diabetes.creaParticiones(datos_diabetes)\n",
    "\n",
    "validacion_simple_wdbc = ValidacionSimple(75,10)\n",
    "simple_wdbc = validacion_simple_wdbc.creaParticiones(datos_wdbc)\n",
    "\n",
    "validacion_cruzada_wdbc = ValidacionCruzada(6)\n",
    "cruzada_wdbc = validacion_cruzada_wdbc.creaParticiones(datos_wdbc)"
   ]
  },
  {
   "cell_type": "code",
   "execution_count": null,
   "metadata": {},
   "outputs": [],
   "source": [
    "\"\"\" Apartado 1 -> Resultados de la clasificacion mediante vecinos proximos.\"\"\""
   ]
  },
  {
   "cell_type": "code",
   "execution_count": 4,
   "metadata": {},
   "outputs": [
    {
     "output_type": "stream",
     "name": "stdout",
     "text": "KNN Euclidea:\n╒═════════════════╤════════════════╤════════════╤════════════════╤════════════╤════════════════╤════════════╕\n│ Tasa de error   │   Diabetes K=5 │   Wdbc K=5 │   Diabetes K=7 │   Wdbc K=7 │   Diabetes K=9 │   Wdbc K=9 │\n╞═════════════════╪════════════════╪════════════╪════════════════╪════════════╪════════════════╪════════════╡\n│ Val. Simple     │          0.276 │      0.035 │          0.263 │      0.032 │          0.256 │      0.033 │\n├─────────────────┼────────────────┼────────────┼────────────────┼────────────┼────────────────┼────────────┤\n│ Val. Cruzada    │          0.288 │      0.03  │          0.284 │      0.033 │          0.27  │      0.03  │\n╘═════════════════╧════════════════╧════════════╧════════════════╧════════════╧════════════════╧════════════╛\n"
    }
   ],
   "source": [
    "\"\"\" Distancia Euclidea \"\"\"\n",
    "\n",
    "knn = ClasificadorVecinosProximos(5, Euclidea)\n",
    "\n",
    "medias_simples_diabetes_knn_5 = knn.validacion(validacion_simple_diabetes, datos_diabetes)\n",
    "medias_cruzadas_diabetes_knn_5 = knn.validacion(validacion_cruzada_diabetes, datos_diabetes)\n",
    "\n",
    "medias_simples_wdbc_knn_5 = knn.validacion(validacion_simple_wdbc, datos_wdbc)\n",
    "medias_cruzadas_wdbc_knn_5 = knn.validacion(validacion_cruzada_wdbc, datos_wdbc)\n",
    "\n",
    "knn = ClasificadorVecinosProximos(7, Euclidea)\n",
    "\n",
    "medias_simples_diabetes_knn_7 = knn.validacion(validacion_simple_diabetes, datos_diabetes)\n",
    "medias_cruzadas_diabetes_knn_7 = knn.validacion(validacion_cruzada_diabetes, datos_diabetes)\n",
    "\n",
    "medias_simples_wdbc_knn_7 = knn.validacion(validacion_simple_wdbc, datos_wdbc)\n",
    "medias_cruzadas_wdbc_knn_7 = knn.validacion(validacion_cruzada_wdbc, datos_wdbc)\n",
    "\n",
    "knn = ClasificadorVecinosProximos(9, Euclidea)\n",
    "\n",
    "medias_simples_diabetes_knn_9 = knn.validacion(validacion_simple_diabetes, datos_diabetes)\n",
    "medias_cruzadas_diabetes_knn_9 = knn.validacion(validacion_cruzada_diabetes, datos_diabetes)\n",
    "\n",
    "medias_simples_wdbc_knn_9 = knn.validacion(validacion_simple_wdbc, datos_wdbc)\n",
    "medias_cruzadas_wdbc_knn_9 = knn.validacion(validacion_cruzada_wdbc, datos_wdbc)\n",
    "\n",
    "# Guardamos resultados de los resultados KNN\n",
    "resultados_P2 = [\n",
    "    [round(medias_simples_diabetes_knn_5[0], 3), \n",
    "    round(medias_simples_wdbc_knn_5[0], 3),\n",
    "    round(medias_simples_diabetes_knn_7[0], 3), \n",
    "    round(medias_simples_wdbc_knn_7[0], 3),\n",
    "    round(medias_simples_diabetes_knn_9[0], 3), \n",
    "    round(medias_simples_wdbc_knn_9[0], 3)], \n",
    "    \n",
    "    [round(medias_cruzadas_diabetes_knn_5[0], 3), \n",
    "    round(medias_cruzadas_wdbc_knn_5[0], 3),\n",
    "    round(medias_cruzadas_diabetes_knn_7[0], 3), \n",
    "    round(medias_cruzadas_wdbc_knn_7[0], 3),\n",
    "    round(medias_cruzadas_diabetes_knn_9[0], 3), \n",
    "    round(medias_cruzadas_wdbc_knn_9[0], 3)]\n",
    "    ]\n",
    "\n",
    "# Impresion de las tablas\n",
    "print(\"KNN Euclidea:\")\n",
    "print(tabulate(resultados_P2, headers=['Tasa de error', 'Diabetes K=5', 'Wdbc K=5', 'Diabetes K=7', 'Wdbc K=7', 'Diabetes K=9', 'Wdbc K=9'], \n",
    "    showindex=['Val. Simple', 'Val. Cruzada'], tablefmt='fancy_grid'))"
   ]
  },
  {
   "cell_type": "code",
   "execution_count": 5,
   "metadata": {},
   "outputs": [
    {
     "output_type": "stream",
     "name": "stdout",
     "text": "KNN Manhattan:\n╒═════════════════╤════════════════╤════════════╤════════════════╤════════════╤════════════════╤════════════╕\n│ Tasa de error   │   Diabetes K=5 │   Wdbc K=5 │   Diabetes K=7 │   Wdbc K=7 │   Diabetes K=9 │   Wdbc K=9 │\n╞═════════════════╪════════════════╪════════════╪════════════════╪════════════╪════════════════╪════════════╡\n│ Val. Simple     │          0.258 │      0.029 │          0.252 │      0.031 │          0.255 │      0.032 │\n├─────────────────┼────────────────┼────────────┼────────────────┼────────────┼────────────────┼────────────┤\n│ Val. Cruzada    │          0.273 │      0.032 │          0.276 │      0.037 │          0.266 │      0.037 │\n╘═════════════════╧════════════════╧════════════╧════════════════╧════════════╧════════════════╧════════════╛\n"
    }
   ],
   "source": [
    "\"\"\" Distancia de Manhattan \"\"\"\n",
    "\n",
    "knn = ClasificadorVecinosProximos(5, Manhattan)\n",
    "\n",
    "medias_simples_diabetes_knn_5 = knn.validacion(validacion_simple_diabetes, datos_diabetes)\n",
    "medias_cruzadas_diabetes_knn_5 = knn.validacion(validacion_cruzada_diabetes, datos_diabetes)\n",
    "\n",
    "medias_simples_wdbc_knn_5 = knn.validacion(validacion_simple_wdbc, datos_wdbc)\n",
    "medias_cruzadas_wdbc_knn_5 = knn.validacion(validacion_cruzada_wdbc, datos_wdbc)\n",
    "\n",
    "knn = ClasificadorVecinosProximos(7, Manhattan)\n",
    "\n",
    "medias_simples_diabetes_knn_7 = knn.validacion(validacion_simple_diabetes, datos_diabetes)\n",
    "medias_cruzadas_diabetes_knn_7 = knn.validacion(validacion_cruzada_diabetes, datos_diabetes)\n",
    "\n",
    "medias_simples_wdbc_knn_7 = knn.validacion(validacion_simple_wdbc, datos_wdbc)\n",
    "medias_cruzadas_wdbc_knn_7 = knn.validacion(validacion_cruzada_wdbc, datos_wdbc)\n",
    "\n",
    "knn = ClasificadorVecinosProximos(9, Manhattan)\n",
    "\n",
    "medias_simples_diabetes_knn_9 = knn.validacion(validacion_simple_diabetes, datos_diabetes)\n",
    "medias_cruzadas_diabetes_knn_9 = knn.validacion(validacion_cruzada_diabetes, datos_diabetes)\n",
    "\n",
    "medias_simples_wdbc_knn_9 = knn.validacion(validacion_simple_wdbc, datos_wdbc)\n",
    "medias_cruzadas_wdbc_knn_9 = knn.validacion(validacion_cruzada_wdbc, datos_wdbc)\n",
    "\n",
    "# Guardamos resultados de los resultados KNN\n",
    "resultados_P2 = [\n",
    "    [round(medias_simples_diabetes_knn_5[0], 3), \n",
    "    round(medias_simples_wdbc_knn_5[0], 3),\n",
    "    round(medias_simples_diabetes_knn_7[0], 3), \n",
    "    round(medias_simples_wdbc_knn_7[0], 3),\n",
    "    round(medias_simples_diabetes_knn_9[0], 3), \n",
    "    round(medias_simples_wdbc_knn_9[0], 3)], \n",
    "    \n",
    "    [round(medias_cruzadas_diabetes_knn_5[0], 3), \n",
    "    round(medias_cruzadas_wdbc_knn_5[0], 3),\n",
    "    round(medias_cruzadas_diabetes_knn_7[0], 3), \n",
    "    round(medias_cruzadas_wdbc_knn_7[0], 3),\n",
    "    round(medias_cruzadas_diabetes_knn_9[0], 3), \n",
    "    round(medias_cruzadas_wdbc_knn_9[0], 3)]\n",
    "    ]\n",
    "\n",
    "# Impresion de las tablas\n",
    "print(\"KNN Manhattan:\")\n",
    "print(tabulate(resultados_P2, headers=['Tasa de error', 'Diabetes K=5', 'Wdbc K=5', 'Diabetes K=7', 'Wdbc K=7', 'Diabetes K=9', 'Wdbc K=9'], \n",
    "    showindex=['Val. Simple', 'Val. Cruzada'], tablefmt='fancy_grid'))"
   ]
  },
  {
   "cell_type": "code",
   "execution_count": 6,
   "metadata": {},
   "outputs": [
    {
     "output_type": "stream",
     "name": "stdout",
     "text": "KNN Mahalanobis:\n╒═════════════════╤════════════════╤════════════╤════════════════╤════════════╤════════════════╤════════════╕\n│ Tasa de error   │   Diabetes K=5 │   Wdbc K=5 │   Diabetes K=7 │   Wdbc K=7 │   Diabetes K=9 │   Wdbc K=9 │\n╞═════════════════╪════════════════╪════════════╪════════════════╪════════════╪════════════════╪════════════╡\n│ Val. Simple     │          0.259 │      0.188 │          0.261 │      0.192 │          0.254 │      0.211 │\n├─────────────────┼────────────────┼────────────┼────────────────┼────────────┼────────────────┼────────────┤\n│ Val. Cruzada    │          0.264 │      0.192 │          0.27  │      0.195 │          0.27  │      0.204 │\n╘═════════════════╧════════════════╧════════════╧════════════════╧════════════╧════════════════╧════════════╛\n"
    }
   ],
   "source": [
    "\"\"\" Distancia de Mahalanobis \"\"\"\n",
    "\n",
    "knn = ClasificadorVecinosProximos(5, Mahalanobis)\n",
    "\n",
    "medias_simples_diabetes_knn_5 = knn.validacion(validacion_simple_diabetes, datos_diabetes)\n",
    "medias_cruzadas_diabetes_knn_5 = knn.validacion(validacion_cruzada_diabetes, datos_diabetes)\n",
    "\n",
    "medias_simples_wdbc_knn_5 = knn.validacion(validacion_simple_wdbc, datos_wdbc)\n",
    "medias_cruzadas_wdbc_knn_5 = knn.validacion(validacion_cruzada_wdbc, datos_wdbc)\n",
    "\n",
    "knn = ClasificadorVecinosProximos(7, Mahalanobis)\n",
    "\n",
    "medias_simples_diabetes_knn_7 = knn.validacion(validacion_simple_diabetes, datos_diabetes)\n",
    "medias_cruzadas_diabetes_knn_7 = knn.validacion(validacion_cruzada_diabetes, datos_diabetes)\n",
    "\n",
    "medias_simples_wdbc_knn_7 = knn.validacion(validacion_simple_wdbc, datos_wdbc)\n",
    "medias_cruzadas_wdbc_knn_7 = knn.validacion(validacion_cruzada_wdbc, datos_wdbc)\n",
    "\n",
    "knn = ClasificadorVecinosProximos(9, Mahalanobis)\n",
    "\n",
    "medias_simples_diabetes_knn_9 = knn.validacion(validacion_simple_diabetes, datos_diabetes)\n",
    "medias_cruzadas_diabetes_knn_9 = knn.validacion(validacion_cruzada_diabetes, datos_diabetes)\n",
    "\n",
    "medias_simples_wdbc_knn_9 = knn.validacion(validacion_simple_wdbc, datos_wdbc)\n",
    "medias_cruzadas_wdbc_knn_9 = knn.validacion(validacion_cruzada_wdbc, datos_wdbc)\n",
    "\n",
    "# Guardamos resultados de los resultados KNN\n",
    "resultados_P2_KNN = [\n",
    "    [round(medias_simples_diabetes_knn_5[0], 3), \n",
    "    round(medias_simples_wdbc_knn_5[0], 3),\n",
    "    round(medias_simples_diabetes_knn_7[0], 3), \n",
    "    round(medias_simples_wdbc_knn_7[0], 3),\n",
    "    round(medias_simples_diabetes_knn_9[0], 3), \n",
    "    round(medias_simples_wdbc_knn_9[0], 3)], \n",
    "    \n",
    "    [round(medias_cruzadas_diabetes_knn_5[0], 3), \n",
    "    round(medias_cruzadas_wdbc_knn_5[0], 3),\n",
    "    round(medias_cruzadas_diabetes_knn_7[0], 3), \n",
    "    round(medias_cruzadas_wdbc_knn_7[0], 3),\n",
    "    round(medias_cruzadas_diabetes_knn_9[0], 3), \n",
    "    round(medias_cruzadas_wdbc_knn_9[0], 3)]\n",
    "    ]\n",
    "\n",
    "# Impresion de las tablas\n",
    "print(\"KNN Mahalanobis:\")\n",
    "print(tabulate(resultados_P2_KNN, headers=['Tasa de error', 'Diabetes K=5', 'Wdbc K=5', 'Diabetes K=7', 'Wdbc K=7', 'Diabetes K=9', 'Wdbc K=9'], \n",
    "    showindex=['Val. Simple', 'Val. Cruzada'], tablefmt='fancy_grid'))"
   ]
  },
  {
   "cell_type": "code",
   "execution_count": 7,
   "metadata": {},
   "outputs": [
    {
     "output_type": "execute_result",
     "data": {
      "text/plain": "' Comentario'"
     },
     "metadata": {},
     "execution_count": 7
    }
   ],
   "source": [
    "\"\"\" Comentario\"\"\""
   ]
  },
  {
   "cell_type": "code",
   "execution_count": 8,
   "metadata": {},
   "outputs": [
    {
     "output_type": "execute_result",
     "data": {
      "text/plain": "' Apartado 2 -> Resultados de la clasificacion mediante regresion logistica.'"
     },
     "metadata": {},
     "execution_count": 8
    }
   ],
   "source": [
    "\"\"\" Apartado 2 -> Resultados de la clasificacion mediante regresion logistica.\"\"\""
   ]
  },
  {
   "cell_type": "code",
   "execution_count": 9,
   "metadata": {},
   "outputs": [
    {
     "output_type": "stream",
     "name": "stdout",
     "text": "Regresion Logistica:\n╒═══════════════════════════╤═══════════════╤════════════════╕\n│ Tasa de error             │   Val. Simple │   Val. Cruzada │\n╞═══════════════════════════╪═══════════════╪════════════════╡\n│ Diabetes Pasos=100 n=0.5  │         0.416 │          0.315 │\n├───────────────────────────┼───────────────┼────────────────┤\n│ Wdbc Pasos=100 n=0.5      │         0.034 │          0.033 │\n├───────────────────────────┼───────────────┼────────────────┤\n│ Diabetes Pasos=100 n=0.75 │         0.408 │          0.303 │\n├───────────────────────────┼───────────────┼────────────────┤\n│ Wdbc Pasos=100 n=0.75     │         0.031 │          0.032 │\n├───────────────────────────┼───────────────┼────────────────┤\n│ Diabetes Pasos=500 n=0.5  │         0.408 │          0.303 │\n├───────────────────────────┼───────────────┼────────────────┤\n│ Wdbc Pasos=500 n=0.5      │         0.031 │          0.032 │\n├───────────────────────────┼───────────────┼────────────────┤\n│ Diabetes Pasos=500 n=0.75 │         0.408 │          0.303 │\n├───────────────────────────┼───────────────┼────────────────┤\n│ Wdbc Pasos=500 n=0.75     │         0.031 │          0.032 │\n╘═══════════════════════════╧═══════════════╧════════════════╛\n"
    }
   ],
   "source": [
    "\"\"\" Pasos 100, n = 0.5 \"\"\"\n",
    "cl = ClasficadorRegresionLogistica(0.5,100)\n",
    "\n",
    "medias_simples_diabetes_rl_1 = cl.validacion(validacion_simple_diabetes, datos_diabetes)\n",
    "medias_cruzadas_diabetes_rl_1 = cl.validacion(validacion_cruzada_diabetes, datos_diabetes)\n",
    "\n",
    "medias_simples_wdbc_rl_1 = cl.validacion(validacion_simple_wdbc, datos_wdbc)\n",
    "medias_cruzadas_wdbc_rl_1 = cl.validacion(validacion_cruzada_wdbc, datos_wdbc)\n",
    "\n",
    "\"\"\" Pasos 100, n = 0.75 \"\"\"\n",
    "cl = ClasficadorRegresionLogistica(0.75,100)\n",
    "\n",
    "medias_simples_diabetes_rl_2 = cl.validacion(validacion_simple_diabetes, datos_diabetes)\n",
    "medias_cruzadas_diabetes_rl_2 = cl.validacion(validacion_cruzada_diabetes, datos_diabetes)\n",
    "\n",
    "medias_simples_wdbc_rl_2 = cl.validacion(validacion_simple_wdbc, datos_wdbc)\n",
    "medias_cruzadas_wdbc_rl_2 = cl.validacion(validacion_cruzada_wdbc, datos_wdbc)\n",
    "\n",
    "\"\"\" Pasos 500, n = 0.5 \"\"\"\n",
    "cl = ClasficadorRegresionLogistica(0.75,100)\n",
    "\n",
    "medias_simples_diabetes_rl_3 = cl.validacion(validacion_simple_diabetes, datos_diabetes)\n",
    "medias_cruzadas_diabetes_rl_3 = cl.validacion(validacion_cruzada_diabetes, datos_diabetes)\n",
    "\n",
    "medias_simples_wdbc_rl_3 = cl.validacion(validacion_simple_wdbc, datos_wdbc)\n",
    "medias_cruzadas_wdbc_rl_3 = cl.validacion(validacion_cruzada_wdbc, datos_wdbc)\n",
    "\n",
    "\"\"\" Pasos 500, n = 0.75 \"\"\"\n",
    "cl = ClasficadorRegresionLogistica(0.75,100)\n",
    "\n",
    "medias_simples_diabetes_rl_4 = cl.validacion(validacion_simple_diabetes, datos_diabetes)\n",
    "medias_cruzadas_diabetes_rl_4 = cl.validacion(validacion_cruzada_diabetes, datos_diabetes)\n",
    "\n",
    "medias_simples_wdbc_rl_4 = cl.validacion(validacion_simple_wdbc, datos_wdbc)\n",
    "medias_cruzadas_wdbc_rl_4 = cl.validacion(validacion_cruzada_wdbc, datos_wdbc)\n",
    "\n",
    "# Guardamos resultados de los resultados RL\n",
    "\n",
    "resultados_P2_RL = [\n",
    "    [round(medias_simples_diabetes_rl_1[0], 3), \n",
    "    round(medias_cruzadas_diabetes_rl_1[0], 3)],\n",
    "    \n",
    "    [round(medias_simples_wdbc_rl_1[0], 3),\n",
    "    round(medias_cruzadas_wdbc_rl_1[0], 3)],\n",
    "\n",
    "    [round(medias_simples_diabetes_rl_2[0], 3),\n",
    "    round(medias_cruzadas_diabetes_rl_2[0], 3)],\n",
    "\n",
    "    [round(medias_simples_wdbc_rl_2[0], 3),\n",
    "    round(medias_cruzadas_wdbc_rl_2[0], 3)],\n",
    "\n",
    "    [round(medias_simples_diabetes_rl_3[0], 3),\n",
    "    round(medias_cruzadas_diabetes_rl_3[0], 3)],\n",
    "\n",
    "    [round(medias_simples_wdbc_rl_3[0], 3),\n",
    "    round(medias_cruzadas_wdbc_rl_3[0], 3)],\n",
    "\n",
    "    [round(medias_simples_diabetes_rl_4[0], 3), \n",
    "    round(medias_cruzadas_diabetes_rl_4[0], 3)],\n",
    "\n",
    "    [round(medias_simples_wdbc_rl_4[0], 3),\n",
    "    round(medias_cruzadas_wdbc_rl_4[0], 3)]\n",
    "        \n",
    "    ]\n",
    "\n",
    "# Impresion de las tablas\n",
    "print(\"Regresion Logistica:\")\n",
    "print(tabulate(resultados_P2_RL, headers=['Tasa de error', 'Val. Simple', 'Val. Cruzada'], \n",
    "    showindex=['Diabetes Pasos=100 n=0.5', 'Wdbc Pasos=100 n=0.5', 'Diabetes Pasos=100 n=0.75', 'Wdbc Pasos=100 n=0.75', 'Diabetes Pasos=500 n=0.5', 'Wdbc Pasos=500 n=0.5', 'Diabetes Pasos=500 n=0.75', 'Wdbc Pasos=500 n=0.75'], tablefmt='fancy_grid'))\n"
   ]
  },
  {
   "cell_type": "code",
   "execution_count": 10,
   "metadata": {},
   "outputs": [
    {
     "output_type": "execute_result",
     "data": {
      "text/plain": "' Comentario '"
     },
     "metadata": {},
     "execution_count": 10
    }
   ],
   "source": [
    "\"\"\" Comentario \"\"\""
   ]
  }
 ],
 "metadata": {
  "language_info": {
   "codemirror_mode": {
    "name": "ipython",
    "version": 3
   },
   "file_extension": ".py",
   "mimetype": "text/x-python",
   "name": "python",
   "nbconvert_exporter": "python",
   "pygments_lexer": "ipython3",
   "version": "3.6.9-final"
  },
  "orig_nbformat": 2,
  "kernelspec": {
   "name": "python36964bit76353b65c158435a8fb60224477d79b6",
   "display_name": "Python 3.6.9 64-bit"
  }
 },
 "nbformat": 4,
 "nbformat_minor": 2
}