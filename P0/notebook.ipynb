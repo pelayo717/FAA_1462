{
 "cells": [
  {
   "cell_type": "code",
   "execution_count": 7,
   "metadata": {},
   "outputs": [
    {
     "name": "stdout",
     "output_type": "stream",
     "text": [
      "[ True  True  True  True  True  True  True  True  True  True]\n",
      "['TLeftSq', 'TMidSq', 'TRightSq', 'MLeftSq', 'MMidSq', 'MRightSq', 'BLeftSq', 'BMidSq', 'BRightSq', 'Class']\n",
      "[[2 2 2 ... 1 1 1]\n",
      " [2 2 2 ... 2 1 1]\n",
      " [2 2 2 ... 1 2 1]\n",
      " ...\n",
      " [1 2 1 ... 1 2 0]\n",
      " [1 2 1 ... 1 2 0]\n",
      " [1 1 2 ... 2 2 0]]\n",
      "{'TLeftSq': {'b': 0, 'o': 1, 'x': 2}, 'TMidSq': {'b': 0, 'o': 1, 'x': 2}, 'TRightSq': {'b': 0, 'o': 1, 'x': 2}, 'MLeftSq': {'b': 0, 'o': 1, 'x': 2}, 'MMidSq': {'b': 0, 'o': 1, 'x': 2}, 'MRightSq': {'b': 0, 'o': 1, 'x': 2}, 'BLeftSq': {'b': 0, 'o': 1, 'x': 2}, 'BMidSq': {'b': 0, 'o': 1, 'x': 2}, 'BRightSq': {'b': 0, 'o': 1, 'x': 2}, 'Class': {'negative': 0, 'positive': 1}}\n"
     ]
    }
   ],
   "source": [
    "from Datos import Datos\n",
    "import sys\n",
    "\n",
    "if __name__ == \"__main__\":\n",
    "    fileName = \"ConjuntosDatos/tic-tac-toe.data\"\n",
    "    datos = Datos(fileName)\n",
    "    print(datos.nominalAtributos)\n",
    "    print(datos.atributos)\n",
    "    print(datos.datos)\n",
    "    print(datos.diccionario)"
   ]
  },
  {
   "cell_type": "code",
   "execution_count": null,
   "metadata": {},
   "outputs": [],
   "source": [
    "\"\"\"\n",
    "La clase Datos, alberga 4 atributos. NominalAtributos, que alberga los estados True o False en base a si son \n",
    "expresiones nominales o son valores reales o enteros. Atributos, que alberga el nombre de cada atributo del \n",
    "fichero csv, y que nos es util para referenciarn a una columna concreta dentro de la matriz de datos. Datos, \n",
    "que alberga, los valores de cada columna ya convertidos a expresiones numericas. Por ultimo, encontramos la variable\n",
    "diccionario, la que por cada entrada, alberga un sub-diccionario que hace referencia a cada atributo del csv \n",
    "y dentro de cada sub-diccionario se recogen todos los posibles valores nominales como una clave y su correspondiente \n",
    "valor numerico.\n",
    "\n",
    "\"\"\""
   ]
  },
  {
   "cell_type": "code",
   "execution_count": null,
   "metadata": {},
   "outputs": [],
   "source": []
  }
 ],
 "metadata": {
  "kernelspec": {
   "display_name": "Python 3",
   "language": "python",
   "name": "python3"
  },
  "language_info": {
   "codemirror_mode": {
    "name": "ipython",
    "version": 3
   },
   "file_extension": ".py",
   "mimetype": "text/x-python",
   "name": "python",
   "nbconvert_exporter": "python",
   "pygments_lexer": "ipython3",
   "version": "3.7.6"
  }
 },
 "nbformat": 4,
 "nbformat_minor": 2
}
